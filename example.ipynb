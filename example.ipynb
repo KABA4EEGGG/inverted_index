{
 "cells": [
  {
   "cell_type": "code",
   "execution_count": 25,
   "id": "731b4d6b",
   "metadata": {},
   "outputs": [],
   "source": [
    "import main"
   ]
  },
  {
   "cell_type": "code",
   "execution_count": 26,
   "id": "93306cda",
   "metadata": {},
   "outputs": [],
   "source": [
    "documents = load_documents(\"wikipedia_sample\")\n",
    "inverted_index = build_inverted_index(documents)\n",
    "inverted_index.dump(\"inverted_index\")\n",
    "inverted_index = InvertedIndex.load(\"inverted_index\")\n",
    "document_ids = inverted_index.query([\"python\", \"code\"])\n"
   ]
  },
  {
   "cell_type": "code",
   "execution_count": 27,
   "id": "930698a8",
   "metadata": {},
   "outputs": [
    {
     "name": "stdout",
     "output_type": "stream",
     "text": [
      "[6021, 6667, 2581, 5783, 7575, 8864, 4266, 6698, 5295, 6834, 9010, 6840, 5311, 8904, 2899, 5213, 4320, 7392, 4706, 5739, 4086, 2807, 4214]\n"
     ]
    }
   ],
   "source": [
    "print(document_ids)"
   ]
  },
  {
   "cell_type": "code",
   "execution_count": null,
   "id": "581545b9",
   "metadata": {},
   "outputs": [],
   "source": []
  },
  {
   "cell_type": "code",
   "execution_count": null,
   "id": "199b7694",
   "metadata": {},
   "outputs": [],
   "source": []
  }
 ],
 "metadata": {
  "kernelspec": {
   "display_name": "Python 3 (ipykernel)",
   "language": "python",
   "name": "python3"
  },
  "language_info": {
   "codemirror_mode": {
    "name": "ipython",
    "version": 3
   },
   "file_extension": ".py",
   "mimetype": "text/x-python",
   "name": "python",
   "nbconvert_exporter": "python",
   "pygments_lexer": "ipython3",
   "version": "3.9.13"
  }
 },
 "nbformat": 4,
 "nbformat_minor": 5
}
